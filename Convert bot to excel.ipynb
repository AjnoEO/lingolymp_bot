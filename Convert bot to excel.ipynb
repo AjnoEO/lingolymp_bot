{
 "cells": [
  {
   "cell_type": "code",
   "execution_count": 38,
   "id": "9e8d46b6",
   "metadata": {},
   "outputs": [],
   "source": [
    "import csv\n",
    "import json"
   ]
  },
  {
   "cell_type": "code",
   "execution_count": 44,
   "id": "e2f566c1",
   "metadata": {},
   "outputs": [],
   "source": [
    "def create_table(li, name):\n",
    "    if len(li) == 0:\n",
    "        return None\n",
    "    with open(name, 'w', encoding='utf-8') as f:\n",
    "        marks_sort = sorted(map(int, li[0][2].keys()))\n",
    "        heading = ['Имя', 'Класс']\n",
    "        heading.extend(marks)\n",
    "        writer = csv.writer(f, lineterminator = '\\n')\n",
    "        writer.writerow(heading)\n",
    "        for part in li:\n",
    "            row = [part[0], part[1]]\n",
    "            row.extend([part[2][str(i)] for i in marks_sort])\n",
    "            writer.writerow(row)"
   ]
  },
  {
   "cell_type": "code",
   "execution_count": 45,
   "id": "d907ac7b",
   "metadata": {},
   "outputs": [],
   "source": [
    "def rewrite(file):\n",
    "    with open(file, 'r', encoding='utf-8') as f:\n",
    "        results = json.load(f)\n",
    "    middle = [(part['name'], part['grade'], part['marks']) for part in results.values() if part['grade'] <= 9]\n",
    "    high = [(part['name'], part['grade'], part['marks']) for part in results.values() if part['grade'] > 9]\n",
    "    create_table(middle, 'middle.csv')\n",
    "    create_table(high, 'high.csv')"
   ]
  },
  {
   "cell_type": "code",
   "execution_count": 46,
   "id": "18a8ae8b",
   "metadata": {},
   "outputs": [],
   "source": [
    "rewrite('res.json')"
   ]
  }
 ],
 "metadata": {
  "kernelspec": {
   "display_name": "Python 3 (ipykernel)",
   "language": "python",
   "name": "python3"
  },
  "language_info": {
   "codemirror_mode": {
    "name": "ipython",
    "version": 3
   },
   "file_extension": ".py",
   "mimetype": "text/x-python",
   "name": "python",
   "nbconvert_exporter": "python",
   "pygments_lexer": "ipython3",
   "version": "3.9.12"
  }
 },
 "nbformat": 4,
 "nbformat_minor": 5
}
